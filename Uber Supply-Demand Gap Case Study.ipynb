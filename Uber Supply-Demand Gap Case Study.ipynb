{
 "cells": [
  {
   "cell_type": "markdown",
   "metadata": {},
   "source": [
    "# Uber supply-demand gap"
   ]
  },
  {
   "cell_type": "code",
   "execution_count": 794,
   "metadata": {},
   "outputs": [],
   "source": [
    "import pandas as pd\n",
    "import matplotlib.pyplot as mpl\n",
    "import seaborn as sb\n",
    "import datetime"
   ]
  },
  {
   "cell_type": "markdown",
   "metadata": {},
   "source": [
    "## Load the data"
   ]
  },
  {
   "cell_type": "code",
   "execution_count": 795,
   "metadata": {},
   "outputs": [],
   "source": [
    "uber_df = pd.read_csv(\"Uber Request Data.csv\")"
   ]
  },
  {
   "cell_type": "code",
   "execution_count": 796,
   "metadata": {
    "scrolled": true
   },
   "outputs": [
    {
     "data": {
      "text/html": [
       "<div>\n",
       "<style scoped>\n",
       "    .dataframe tbody tr th:only-of-type {\n",
       "        vertical-align: middle;\n",
       "    }\n",
       "\n",
       "    .dataframe tbody tr th {\n",
       "        vertical-align: top;\n",
       "    }\n",
       "\n",
       "    .dataframe thead th {\n",
       "        text-align: right;\n",
       "    }\n",
       "</style>\n",
       "<table border=\"1\" class=\"dataframe\">\n",
       "  <thead>\n",
       "    <tr style=\"text-align: right;\">\n",
       "      <th></th>\n",
       "      <th>Request id</th>\n",
       "      <th>Pickup point</th>\n",
       "      <th>Driver id</th>\n",
       "      <th>Status</th>\n",
       "      <th>Request timestamp</th>\n",
       "      <th>Drop timestamp</th>\n",
       "    </tr>\n",
       "  </thead>\n",
       "  <tbody>\n",
       "    <tr>\n",
       "      <th>0</th>\n",
       "      <td>619</td>\n",
       "      <td>Airport</td>\n",
       "      <td>1.0</td>\n",
       "      <td>Trip Completed</td>\n",
       "      <td>11/7/2016 11:51</td>\n",
       "      <td>11/7/2016 13:00</td>\n",
       "    </tr>\n",
       "    <tr>\n",
       "      <th>1</th>\n",
       "      <td>867</td>\n",
       "      <td>Airport</td>\n",
       "      <td>1.0</td>\n",
       "      <td>Trip Completed</td>\n",
       "      <td>11/7/2016 17:57</td>\n",
       "      <td>11/7/2016 18:47</td>\n",
       "    </tr>\n",
       "    <tr>\n",
       "      <th>2</th>\n",
       "      <td>1807</td>\n",
       "      <td>City</td>\n",
       "      <td>1.0</td>\n",
       "      <td>Trip Completed</td>\n",
       "      <td>12/7/2016 9:17</td>\n",
       "      <td>12/7/2016 9:58</td>\n",
       "    </tr>\n",
       "    <tr>\n",
       "      <th>3</th>\n",
       "      <td>2532</td>\n",
       "      <td>Airport</td>\n",
       "      <td>1.0</td>\n",
       "      <td>Trip Completed</td>\n",
       "      <td>12/7/2016 21:08</td>\n",
       "      <td>12/7/2016 22:03</td>\n",
       "    </tr>\n",
       "    <tr>\n",
       "      <th>4</th>\n",
       "      <td>3112</td>\n",
       "      <td>City</td>\n",
       "      <td>1.0</td>\n",
       "      <td>Trip Completed</td>\n",
       "      <td>13-07-2016 08:33:16</td>\n",
       "      <td>13-07-2016 09:25:47</td>\n",
       "    </tr>\n",
       "  </tbody>\n",
       "</table>\n",
       "</div>"
      ],
      "text/plain": [
       "   Request id Pickup point  Driver id          Status    Request timestamp  \\\n",
       "0         619      Airport        1.0  Trip Completed      11/7/2016 11:51   \n",
       "1         867      Airport        1.0  Trip Completed      11/7/2016 17:57   \n",
       "2        1807         City        1.0  Trip Completed       12/7/2016 9:17   \n",
       "3        2532      Airport        1.0  Trip Completed      12/7/2016 21:08   \n",
       "4        3112         City        1.0  Trip Completed  13-07-2016 08:33:16   \n",
       "\n",
       "        Drop timestamp  \n",
       "0      11/7/2016 13:00  \n",
       "1      11/7/2016 18:47  \n",
       "2       12/7/2016 9:58  \n",
       "3      12/7/2016 22:03  \n",
       "4  13-07-2016 09:25:47  "
      ]
     },
     "execution_count": 796,
     "metadata": {},
     "output_type": "execute_result"
    }
   ],
   "source": [
    "uber_df.shape #6745 rows, 6 columns\n",
    "\n",
    "uber_df.head()"
   ]
  },
  {
   "cell_type": "markdown",
   "metadata": {},
   "source": [
    "## Data Cleaning and Manipulation"
   ]
  },
  {
   "cell_type": "markdown",
   "metadata": {},
   "source": [
    "### checking for duplicate requests"
   ]
  },
  {
   "cell_type": "code",
   "execution_count": 797,
   "metadata": {},
   "outputs": [
    {
     "data": {
      "text/plain": [
       "0"
      ]
     },
     "execution_count": 797,
     "metadata": {},
     "output_type": "execute_result"
    }
   ],
   "source": [
    "uber_df.duplicated(subset=['Request id']).sum() # returns 0; which means no duplicate requests are present in the dataset"
   ]
  },
  {
   "cell_type": "markdown",
   "metadata": {},
   "source": [
    "### checking null values"
   ]
  },
  {
   "cell_type": "code",
   "execution_count": 798,
   "metadata": {},
   "outputs": [
    {
     "data": {
      "text/plain": [
       "Request id              0\n",
       "Pickup point            0\n",
       "Driver id            2650\n",
       "Status                  0\n",
       "Request timestamp       0\n",
       "Drop timestamp       3914\n",
       "dtype: int64"
      ]
     },
     "execution_count": 798,
     "metadata": {},
     "output_type": "execute_result"
    }
   ],
   "source": [
    "uber_df.isnull().sum()\n",
    "#Output:\n",
    "#Request id              0\n",
    "#Pickup point            0\n",
    "#Driver id            2650\n",
    "#Status                  0\n",
    "#Request timestamp       0\n",
    "#Drop timestamp       3914\n",
    "\n",
    "#From the above output, we can see that Driver id and Drop timestamp has null values or na values which is possible for the rides\n",
    "#not being completed either due to cancellation by Driver or non-availability of cabs at the time of request.\n",
    "#So no need to remove the null values from these columns"
   ]
  },
  {
   "cell_type": "markdown",
   "metadata": {},
   "source": [
    "### Converting columns to proper data type"
   ]
  },
  {
   "cell_type": "code",
   "execution_count": 799,
   "metadata": {},
   "outputs": [
    {
     "name": "stdout",
     "output_type": "stream",
     "text": [
      "<class 'pandas.core.frame.DataFrame'>\n",
      "RangeIndex: 6745 entries, 0 to 6744\n",
      "Data columns (total 6 columns):\n",
      "Request id           6745 non-null int64\n",
      "Pickup point         6745 non-null object\n",
      "Driver id            4095 non-null float64\n",
      "Status               6745 non-null object\n",
      "Request timestamp    6745 non-null object\n",
      "Drop timestamp       2831 non-null object\n",
      "dtypes: float64(1), int64(1), object(4)\n",
      "memory usage: 316.2+ KB\n"
     ]
    }
   ],
   "source": [
    "uber_df.info()"
   ]
  },
  {
   "cell_type": "code",
   "execution_count": 800,
   "metadata": {},
   "outputs": [
    {
     "name": "stdout",
     "output_type": "stream",
     "text": [
      "<class 'pandas.core.frame.DataFrame'>\n",
      "RangeIndex: 6745 entries, 0 to 6744\n",
      "Data columns (total 6 columns):\n",
      "Request id           6745 non-null category\n",
      "Pickup point         6745 non-null category\n",
      "Driver id            4095 non-null category\n",
      "Status               6745 non-null category\n",
      "Request timestamp    6745 non-null datetime64[ns]\n",
      "Drop timestamp       2831 non-null datetime64[ns]\n",
      "dtypes: category(4), datetime64[ns](2)\n",
      "memory usage: 530.2 KB\n"
     ]
    }
   ],
   "source": [
    "uber_df['Pickup point'] = uber_df['Pickup point'].astype('category')\n",
    "uber_df['Status'] = uber_df['Status'].astype('category')\n",
    "uber_df['Request id'] = uber_df['Request id'].astype('category')\n",
    "uber_df['Driver id'] = uber_df['Driver id'].astype('category')\n",
    "uber_df['Request timestamp'] = pd.to_datetime(uber_df['Request timestamp'])\n",
    "uber_df['Drop timestamp'] = pd.to_datetime(uber_df['Drop timestamp'])\n",
    "\n",
    "uber_df.info()"
   ]
  },
  {
   "cell_type": "markdown",
   "metadata": {},
   "source": [
    "### Deriving new columns for analysis"
   ]
  },
  {
   "cell_type": "code",
   "execution_count": 801,
   "metadata": {},
   "outputs": [],
   "source": [
    "# combining number of requests getting cancelled or non-availability of cars, into one category\n",
    "\n",
    "uber_df.loc[(uber_df['Status'] == 'Cancelled') | (uber_df['Status'] == 'No Cars Available'), 'Cancel Or NA'] = \"Yes\"\n",
    "uber_df.loc[(uber_df['Status'] == 'Trip Completed'), 'Cancel Or NA'] = \"No\"\n",
    "\n",
    "uber_df['Cancel Or NA'] = uber_df['Cancel Or NA'].astype('category')"
   ]
  },
  {
   "cell_type": "code",
   "execution_count": 802,
   "metadata": {},
   "outputs": [],
   "source": [
    "# Deriving 'hour' column from the 'Request timestamp' column\n",
    "\n",
    "uber_df['hour'] = uber_df['Request timestamp'].dt.hour\n",
    "\n",
    "# Deriving 'time slab' column from the 'hour' column\n",
    "uber_df.loc[(uber_df['hour'] >= 0) & (uber_df['hour'] <= 5), 'time slab'] = \"Early Morning\"\n",
    "uber_df.loc[(uber_df['hour'] >= 6) & (uber_df['hour'] <= 11), 'time slab'] = \"Morning\"\n",
    "uber_df.loc[(uber_df['hour'] >= 12) & (uber_df['hour'] <= 16), 'time slab'] = \"Afternoon\"\n",
    "uber_df.loc[(uber_df['hour'] >= 17) & (uber_df['hour'] <= 20), 'time slab'] = \"Evening\"\n",
    "uber_df.loc[(uber_df['hour'] >= 21) & (uber_df['hour'] <= 23), 'time slab'] = \"Late Evening\"\n",
    "\n",
    "uber_df['time slab'] = uber_df['time slab'].astype('category')\n",
    "uber_df['hour'] = uber_df['hour'].astype('category')"
   ]
  },
  {
   "cell_type": "markdown",
   "metadata": {},
   "source": [
    "## Data Analysis"
   ]
  },
  {
   "cell_type": "code",
   "execution_count": 803,
   "metadata": {},
   "outputs": [
    {
     "data": {
      "text/html": [
       "<div>\n",
       "<style scoped>\n",
       "    .dataframe tbody tr th:only-of-type {\n",
       "        vertical-align: middle;\n",
       "    }\n",
       "\n",
       "    .dataframe tbody tr th {\n",
       "        vertical-align: top;\n",
       "    }\n",
       "\n",
       "    .dataframe thead th {\n",
       "        text-align: right;\n",
       "    }\n",
       "</style>\n",
       "<table border=\"1\" class=\"dataframe\">\n",
       "  <thead>\n",
       "    <tr style=\"text-align: right;\">\n",
       "      <th></th>\n",
       "      <th>Request id</th>\n",
       "      <th>Pickup point</th>\n",
       "      <th>Driver id</th>\n",
       "      <th>Status</th>\n",
       "      <th>Request timestamp</th>\n",
       "      <th>Drop timestamp</th>\n",
       "      <th>Cancel Or NA</th>\n",
       "      <th>hour</th>\n",
       "      <th>time slab</th>\n",
       "    </tr>\n",
       "  </thead>\n",
       "  <tbody>\n",
       "    <tr>\n",
       "      <th>count</th>\n",
       "      <td>6745.0</td>\n",
       "      <td>6745</td>\n",
       "      <td>4095.0</td>\n",
       "      <td>6745</td>\n",
       "      <td>6745</td>\n",
       "      <td>2831</td>\n",
       "      <td>6745</td>\n",
       "      <td>6745.0</td>\n",
       "      <td>6745</td>\n",
       "    </tr>\n",
       "    <tr>\n",
       "      <th>unique</th>\n",
       "      <td>6745.0</td>\n",
       "      <td>2</td>\n",
       "      <td>300.0</td>\n",
       "      <td>3</td>\n",
       "      <td>5618</td>\n",
       "      <td>2598</td>\n",
       "      <td>2</td>\n",
       "      <td>24.0</td>\n",
       "      <td>5</td>\n",
       "    </tr>\n",
       "    <tr>\n",
       "      <th>top</th>\n",
       "      <td>6766.0</td>\n",
       "      <td>City</td>\n",
       "      <td>27.0</td>\n",
       "      <td>Trip Completed</td>\n",
       "      <td>2016-11-07 19:02:00</td>\n",
       "      <td>2016-12-07 21:04:00</td>\n",
       "      <td>Yes</td>\n",
       "      <td>18.0</td>\n",
       "      <td>Morning</td>\n",
       "    </tr>\n",
       "    <tr>\n",
       "      <th>freq</th>\n",
       "      <td>1.0</td>\n",
       "      <td>3507</td>\n",
       "      <td>22.0</td>\n",
       "      <td>2831</td>\n",
       "      <td>6</td>\n",
       "      <td>4</td>\n",
       "      <td>3914</td>\n",
       "      <td>510.0</td>\n",
       "      <td>2072</td>\n",
       "    </tr>\n",
       "    <tr>\n",
       "      <th>first</th>\n",
       "      <td>NaN</td>\n",
       "      <td>NaN</td>\n",
       "      <td>NaN</td>\n",
       "      <td>NaN</td>\n",
       "      <td>2016-07-13 00:00:24</td>\n",
       "      <td>2016-07-13 00:01:12</td>\n",
       "      <td>NaN</td>\n",
       "      <td>NaN</td>\n",
       "      <td>NaN</td>\n",
       "    </tr>\n",
       "    <tr>\n",
       "      <th>last</th>\n",
       "      <td>NaN</td>\n",
       "      <td>NaN</td>\n",
       "      <td>NaN</td>\n",
       "      <td>NaN</td>\n",
       "      <td>2016-12-07 23:54:00</td>\n",
       "      <td>2016-12-07 23:45:00</td>\n",
       "      <td>NaN</td>\n",
       "      <td>NaN</td>\n",
       "      <td>NaN</td>\n",
       "    </tr>\n",
       "  </tbody>\n",
       "</table>\n",
       "</div>"
      ],
      "text/plain": [
       "        Request id Pickup point  Driver id          Status  \\\n",
       "count       6745.0         6745     4095.0            6745   \n",
       "unique      6745.0            2      300.0               3   \n",
       "top         6766.0         City       27.0  Trip Completed   \n",
       "freq           1.0         3507       22.0            2831   \n",
       "first          NaN          NaN        NaN             NaN   \n",
       "last           NaN          NaN        NaN             NaN   \n",
       "\n",
       "          Request timestamp       Drop timestamp Cancel Or NA    hour  \\\n",
       "count                  6745                 2831         6745  6745.0   \n",
       "unique                 5618                 2598            2    24.0   \n",
       "top     2016-11-07 19:02:00  2016-12-07 21:04:00          Yes    18.0   \n",
       "freq                      6                    4         3914   510.0   \n",
       "first   2016-07-13 00:00:24  2016-07-13 00:01:12          NaN     NaN   \n",
       "last    2016-12-07 23:54:00  2016-12-07 23:45:00          NaN     NaN   \n",
       "\n",
       "       time slab  \n",
       "count       6745  \n",
       "unique         5  \n",
       "top      Morning  \n",
       "freq        2072  \n",
       "first        NaN  \n",
       "last         NaN  "
      ]
     },
     "execution_count": 803,
     "metadata": {},
     "output_type": "execute_result"
    }
   ],
   "source": [
    "uber_df.describe()"
   ]
  },
  {
   "cell_type": "code",
   "execution_count": 804,
   "metadata": {},
   "outputs": [
    {
     "data": {
      "text/html": [
       "<div>\n",
       "<style scoped>\n",
       "    .dataframe tbody tr th:only-of-type {\n",
       "        vertical-align: middle;\n",
       "    }\n",
       "\n",
       "    .dataframe tbody tr th {\n",
       "        vertical-align: top;\n",
       "    }\n",
       "\n",
       "    .dataframe thead th {\n",
       "        text-align: right;\n",
       "    }\n",
       "</style>\n",
       "<table border=\"1\" class=\"dataframe\">\n",
       "  <thead>\n",
       "    <tr style=\"text-align: right;\">\n",
       "      <th></th>\n",
       "      <th>counts</th>\n",
       "      <th>freqs</th>\n",
       "    </tr>\n",
       "    <tr>\n",
       "      <th>categories</th>\n",
       "      <th></th>\n",
       "      <th></th>\n",
       "    </tr>\n",
       "  </thead>\n",
       "  <tbody>\n",
       "    <tr>\n",
       "      <th>Airport</th>\n",
       "      <td>3238</td>\n",
       "      <td>0.480059</td>\n",
       "    </tr>\n",
       "    <tr>\n",
       "      <th>City</th>\n",
       "      <td>3507</td>\n",
       "      <td>0.519941</td>\n",
       "    </tr>\n",
       "  </tbody>\n",
       "</table>\n",
       "</div>"
      ],
      "text/plain": [
       "            counts     freqs\n",
       "categories                  \n",
       "Airport       3238  0.480059\n",
       "City          3507  0.519941"
      ]
     },
     "execution_count": 804,
     "metadata": {},
     "output_type": "execute_result"
    }
   ],
   "source": [
    "pd.Categorical(uber_df['Pickup point']).describe()\n",
    "\n",
    "# More requests are raised from City to Airport commute as compared to Airport to City"
   ]
  },
  {
   "cell_type": "code",
   "execution_count": 805,
   "metadata": {},
   "outputs": [
    {
     "data": {
      "text/html": [
       "<div>\n",
       "<style scoped>\n",
       "    .dataframe tbody tr th:only-of-type {\n",
       "        vertical-align: middle;\n",
       "    }\n",
       "\n",
       "    .dataframe tbody tr th {\n",
       "        vertical-align: top;\n",
       "    }\n",
       "\n",
       "    .dataframe thead th {\n",
       "        text-align: right;\n",
       "    }\n",
       "</style>\n",
       "<table border=\"1\" class=\"dataframe\">\n",
       "  <thead>\n",
       "    <tr style=\"text-align: right;\">\n",
       "      <th></th>\n",
       "      <th>counts</th>\n",
       "      <th>freqs</th>\n",
       "    </tr>\n",
       "    <tr>\n",
       "      <th>categories</th>\n",
       "      <th></th>\n",
       "      <th></th>\n",
       "    </tr>\n",
       "  </thead>\n",
       "  <tbody>\n",
       "    <tr>\n",
       "      <th>Cancelled</th>\n",
       "      <td>1264</td>\n",
       "      <td>0.187398</td>\n",
       "    </tr>\n",
       "    <tr>\n",
       "      <th>No Cars Available</th>\n",
       "      <td>2650</td>\n",
       "      <td>0.392884</td>\n",
       "    </tr>\n",
       "    <tr>\n",
       "      <th>Trip Completed</th>\n",
       "      <td>2831</td>\n",
       "      <td>0.419718</td>\n",
       "    </tr>\n",
       "  </tbody>\n",
       "</table>\n",
       "</div>"
      ],
      "text/plain": [
       "                   counts     freqs\n",
       "categories                         \n",
       "Cancelled            1264  0.187398\n",
       "No Cars Available    2650  0.392884\n",
       "Trip Completed       2831  0.419718"
      ]
     },
     "execution_count": 805,
     "metadata": {},
     "output_type": "execute_result"
    }
   ],
   "source": [
    "pd.Categorical(uber_df['Status']).describe()\n",
    "\n",
    "# As seen, more number of requests get either cancel or cars are not available as compared to requests getting completed"
   ]
  },
  {
   "cell_type": "markdown",
   "metadata": {},
   "source": [
    "### Performing univariate analysis"
   ]
  },
  {
   "cell_type": "code",
   "execution_count": 806,
   "metadata": {},
   "outputs": [
    {
     "data": {
      "image/png": "[encoded data removed]",
      "text/plain": [
       "<Figure size 432x288 with 1 Axes>"
      ]
     },
     "metadata": {},
     "output_type": "display_data"
    }
   ],
   "source": [
    "sb.countplot(x=uber_df['Status'])\n",
    "mpl.show()\n",
    "\n",
    "# we can see from the graph below that there are more number of requests which have not been fulfilled because of non-availability\n",
    "# of cars as compared to the trips being cancelled"
   ]
  },
  {
   "cell_type": "code",
   "execution_count": 807,
   "metadata": {},
   "outputs": [
    {
     "data": {
      "image/png": "[encoded data removed]",
      "text/plain": [
       "<Figure size 432x288 with 1 Axes>"
      ]
     },
     "metadata": {},
     "output_type": "display_data"
    }
   ],
   "source": [
    "sb.countplot(x=uber_df['Pickup point'])\n",
    "mpl.show()\n",
    "\n",
    "# Observation:\n",
    "# There are more of requests being placed from City to Airport as compared to Airport to City"
   ]
  },
  {
   "cell_type": "markdown",
   "metadata": {},
   "source": [
    "### Performing bivariate analysis"
   ]
  },
  {
   "cell_type": "code",
   "execution_count": 808,
   "metadata": {},
   "outputs": [
    {
     "data": {
      "image/png": "[encoded data removed]",
      "text/plain": [
       "<Figure size 504x360 with 1 Axes>"
      ]
     },
     "metadata": {},
     "output_type": "display_data"
    }
   ],
   "source": [
    "# Lets get more insight by further dividing the above plot for different 'Status' of trips\n",
    "\n",
    "mpl.figure(figsize=(7, 5))\n",
    "sb.countplot(x='Pickup point', hue='Status', data=uber_df)\n",
    "mpl.show()\n",
    "\n",
    "# Observations:\n",
    "# a) more trips are getting cancelled from City to Airport\n",
    "# b) more trips have non-availability of cars in the case of Airport to City\n",
    "# c) very less trips get cancelled from Airport to City (this could be due to less number of availability of cars). Since less cars are\n",
    "#    available, less trips will get cancelled."
   ]
  },
  {
   "cell_type": "code",
   "execution_count": 809,
   "metadata": {},
   "outputs": [
    {
     "data": {
      "image/png": "[encoded data removed]",
      "text/plain": [
       "<Figure size 432x360 with 1 Axes>"
      ]
     },
     "metadata": {},
     "output_type": "display_data"
    }
   ],
   "source": [
    "# Combining both 'cancelled' and 'no cars available' into one and analysing the same\n",
    "\n",
    "mpl.figure(figsize=(6, 5))\n",
    "sb.countplot(x='Cancel Or NA', hue='Pickup point', data=uber_df)\n",
    "mpl.show()\n",
    "\n",
    "# Observations:\n",
    "# Trips get cancelled or have non-availability of cars, more in case of City to Airport"
   ]
  },
  {
   "cell_type": "code",
   "execution_count": 810,
   "metadata": {},
   "outputs": [
    {
     "data": {
      "image/png": "[encoded data removed]",
      "text/plain": [
       "<Figure size 720x360 with 1 Axes>"
      ]
     },
     "metadata": {},
     "output_type": "display_data"
    }
   ],
   "source": [
    "# Analysing the Cancelled and 'No Cars Available' on hourly basis\n",
    "temp_df = uber_df[uber_df['Cancel Or NA'] == 'Yes']\n",
    "\n",
    "mpl.figure(figsize=(10, 5))\n",
    "sb.countplot(x = 'hour', hue = 'Pickup point', data=temp_df)\n",
    "mpl.title('No Cars Available & Cancelled')\n",
    "\n",
    "mpl.show()\n",
    "\n",
    "# Observations:\n",
    "# More number of requests which get cancelled or have no cars available are between:\n",
    "# a) 4am-10am from City to Airport\n",
    "# b) 5pm-10pm from Airport to City"
   ]
  },
  {
   "cell_type": "code",
   "execution_count": 811,
   "metadata": {},
   "outputs": [
    {
     "data": {
      "image/png": "[encoded data removed]",
      "text/plain": [
       "<Figure size 1080x360 with 2 Axes>"
      ]
     },
     "metadata": {},
     "output_type": "display_data"
    }
   ],
   "source": [
    "# Analysing individually the number of trips getting 'Cancelled' and 'No Cars Available' with respect to the 'time slab' of the day\n",
    "\n",
    "temp_df1 = uber_df[uber_df['Status'] == 'No Cars Available']\n",
    "temp_df2 = uber_df[uber_df['Status'] == 'Cancelled']\n",
    "\n",
    "mpl.figure(figsize=(15, 5))\n",
    "\n",
    "mpl.subplot(1, 2, 1)\n",
    "sb.countplot(x = 'time slab', hue = 'Pickup point', order = ['Early Morning', 'Morning', 'Afternoon', 'Evening', 'Late Evening'], data=temp_df1)\n",
    "mpl.title('No Cars Available')\n",
    "\n",
    "mpl.subplot(1, 2, 2)\n",
    "sb.countplot(x = 'time slab', hue = 'Pickup point', order = ['Early Morning', 'Morning', 'Afternoon', 'Evening', 'Late Evening'], data=temp_df2)\n",
    "mpl.title('Cancelled')\n",
    "\n",
    "mpl.show()\n",
    "\n",
    "# Observations:\n",
    "# a) More number of requests are not getting any available cars during:\n",
    "#         i) 'Morning' and 'Afternoon' hours from City to Airport\n",
    "#        ii) 'Evening' and 'Late Evening' hours from Airport to City\n",
    "# b) Huge number of request are getting cancelled in:\n",
    "#         i) 'Morning' hours from City to Airport"
   ]
  },
  {
   "cell_type": "code",
   "execution_count": 812,
   "metadata": {},
   "outputs": [
    {
     "data": {
      "image/png": "[encoded data removed]",
      "text/plain": [
       "<Figure size 1440x360 with 2 Axes>"
      ]
     },
     "metadata": {},
     "output_type": "display_data"
    }
   ],
   "source": [
    "# Lets observe individually both 'Cancelled' and 'No Cars Available' statuses on hourly basis\n",
    "\n",
    "temp_df1 = uber_df[uber_df['Status'] == 'No Cars Available']\n",
    "temp_df2 = uber_df[uber_df['Status'] == 'Cancelled']\n",
    "\n",
    "mpl.figure(figsize=(20, 5))\n",
    "\n",
    "mpl.subplot(1, 2, 1)\n",
    "sb.countplot(x = 'hour', hue = 'Pickup point', data=temp_df1)\n",
    "mpl.title('No Cars Available')\n",
    "\n",
    "mpl.subplot(1, 2, 2)\n",
    "sb.countplot(x = 'hour', hue = 'Pickup point', data=temp_df2)\n",
    "mpl.title('Cancelled')\n",
    "\n",
    "mpl.show()\n",
    "\n",
    "# Observations:\n",
    "# a) More number of requests are not getting any available cars between:\n",
    "#        i) 5am-10am from City to Airport\n",
    "#       ii) 5pm-10pm from Airport to City\n",
    "# b) More number of requests are getting cancelled between:\n",
    "#        i) 4am-10am hours from City to Airport"
   ]
  },
  {
   "cell_type": "markdown",
   "metadata": {},
   "source": [
    "### Computing Supply Demand Gap"
   ]
  },
  {
   "cell_type": "code",
   "execution_count": 813,
   "metadata": {},
   "outputs": [
    {
     "data": {
      "image/png": "[encoded data removed]",
      "text/plain": [
       "<Figure size 720x1080 with 2 Axes>"
      ]
     },
     "metadata": {},
     "output_type": "display_data"
    }
   ],
   "source": [
    "dsr_df = pd.DataFrame()\n",
    "dsr_df['demand'] = (uber_df.groupby(by=['hour', 'Pickup point'])['hour'].count())\n",
    "\n",
    "temp_df = uber_df[uber_df['Cancel Or NA'] == 'No']\n",
    "\n",
    "dsr_df['supply'] = (temp_df.groupby(by=['hour', 'Pickup point'])['hour'].count())\n",
    "dsr_df.reset_index(inplace=True)\n",
    "\n",
    "dsr_df['gap'] = dsr_df['demand'] - dsr_df['supply']\n",
    "\n",
    "\n",
    "mpl.figure(figsize=(10, 15))\n",
    "mpl.subplot(2, 1, 1)\n",
    "sb.barplot(x='hour', y='gap', estimator=np.sum, ci=None, color='orange', data=dsr_df)\n",
    "mpl.title('Demand Supply Gap on Hourly Basis')\n",
    "\n",
    "mpl.subplot(2, 1, 2)\n",
    "sb.barplot(x='hour', y='gap', hue='Pickup point', data=dsr_df)\n",
    "mpl.title('Demand Supply Gap with Request Type on Hourly Basis')\n",
    "mpl.show()\n",
    "\n",
    "# Observations:\n",
    "# a) The demand supply gap is highest between 6-9pm (as evident from plot 1)\n",
    "# b) The demand supply gap is huge for requests from Airport to City between 6-9pm (as evident from plot 2)"
   ]
  },
  {
   "cell_type": "markdown",
   "metadata": {},
   "source": [
    "### Conclusion\n",
    "\n",
    "The following behaviour is observed as a whole:\n",
    "a) More number of requests are not getting any available cars during:\n",
    "        i) 'Morning' hours (i.e. from 5am-10am) from City to Airport\n",
    "       ii) 'Evening' and 'Late Evening' hours (i.e. from 5pm-10pm) from Airport to City\n",
    "b) Huge number of request are getting cancelled in:\n",
    "        i) 'Morning' hours (i.e. from 5am-10am) from City to Airport\n",
    "c) The demand supply gap is highest between 6-9pm ie. in 'Evening' hours\n",
    "d) The demand supply gap is huge for requests from Airport to City between 6-9pm\n",
    "\n",
    "### Reason for Demand-Supply Gap\n",
    "\n",
    "a) During Morning hours, the demand supply gap (caused because of City-Airport requests) may exist because the drivers may not be getting return rides from Airport to City and thus they will be earning less if they take rides from City to Airport in Morning hours.\n",
    "\n",
    "b) During Evening hours, the demand supply gap (caused because of Airport-City requests) may exist because of non-availability of cars on Airport during those hours. Since the drivers are not taking up rides from City-Airport, there are less number of cars available on Airport for Airport-City rides.\n",
    "\n",
    "c) Another reason why drivers are cancelling the requests from City-Airport during morning hours is the long waiting time. If they take ride in Morning they have to wait until Night to get the ride back from Airport-City. So they are less interested in taking up such rides.\n",
    "\n",
    "### Recommendations\n",
    "\n",
    "a) The drivers can be given some compensatory amount for the time they wait at Airport for the return ride on the same day.\n",
    "\n",
    "b) The ride fare for City-Airport requests (during Morning hours) and Airport-City requests (during Evening hours) can be increased to attract drivers for such rides."
   ]
  }
 ],
 "metadata": {
  "kernelspec": {
   "display_name": "Python 3",
   "language": "python",
   "name": "python3"
  },
  "language_info": {
   "codemirror_mode": {
    "name": "ipython",
    "version": 3
   },
   "file_extension": ".py",
   "mimetype": "text/x-python",
   "name": "python",
   "nbconvert_exporter": "python",
   "pygments_lexer": "ipython3",
   "version": "3.6.5"
  }
 },
 "nbformat": 4,
 "nbformat_minor": 2
}
